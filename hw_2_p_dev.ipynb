{
 "cells": [
  {
   "cell_type": "markdown",
   "id": "5e414630",
   "metadata": {},
   "source": [
    "## Задание 1\n",
    "Модифицируйте программу, написанную на занятии так, чтобы выход из нее осуществлялся не только при вводе неизвестной команды, но и при вводе специальной команды exit. Сделайте так, чтобы при вводе этой команды программа выводила на экран текст: \"Спасибо за использование! До свидания!\"\n",
    "\n",
    "Пример ввода-вывода программы:\n",
    "\n",
    "Введите команду\n",
    "exit\n",
    "Спасибо за использование! До свидания!"
   ]
  },
  {
   "cell_type": "code",
   "execution_count": 1,
   "id": "fa4ba0f7",
   "metadata": {},
   "outputs": [
    {
     "name": "stdout",
     "output_type": "stream",
     "text": [
      "Введите команду: exit\n",
      "Спасибо за использование! До свидания!\n"
     ]
    }
   ],
   "source": [
    "HELP = \"\"\"\n",
    "help - напечатать справку по программе.\n",
    "add - добавить задачу в список (название задачи запрашиваем у пользователя).\n",
    "show - напечатать все добавленные задачи.\"\"\"\n",
    "\n",
    "tasks = []\n",
    "\n",
    "run = True\n",
    "\n",
    "while run:\n",
    "    command = input(\"Введите команду: \")\n",
    "    if command == \"help\":\n",
    "        print(HELP)\n",
    "    elif command == \"show\":\n",
    "        print(tasks)\n",
    "    elif command == \"add\":\n",
    "        task = input(\"Введите название задачи: \")\n",
    "        tasks.append(task)\n",
    "        print(\"Задача добавлена\")\n",
    "    elif command == \"exit\":\n",
    "        print(\"Спасибо за использование! До свидания!\")\n",
    "        break\n",
    "    else: \n",
    "        print(\"Неизвестная команда\")\n",
    "        break\n",
    "        print(\"До свидания!\")\n"
   ]
  },
  {
   "cell_type": "markdown",
   "id": "d5251243",
   "metadata": {},
   "source": [
    "## Задание 2\n",
    "Давайте усложним нашу программу. Сделайте следующие изменения:\n",
    "\n",
    "Заведите 3 списка: today, tomorrow, other (вы можете назвать переменные по-другому).\n",
    "Измените блок кода, который выполняет команду add:\n",
    "Дополнительно запросите у пользователя дату выполнения задачи.\n",
    "В зависимости от введенной даты добавьте задачу в один из списков по следующим правилам:\n",
    "Если пользователь ввел \"Сегодня\", добавьте задачу в список today.\n",
    "Если пользователь ввел \"Завтра\", добавьте задачу в список tomorrow.\n",
    "Если пользователь ввел любое другое значение, добавьте задачу в список other."
   ]
  },
  {
   "cell_type": "code",
   "execution_count": 2,
   "id": "45156d29",
   "metadata": {},
   "outputs": [
    {
     "name": "stdout",
     "output_type": "stream",
     "text": [
      "Введите команду: add\n",
      "Введите название задачи: Посмотреть питон \n",
      "Введите дату выполнения задачи: Сегодня\n",
      "Задача добавлена\n",
      "Введите команду: add\n",
      "Введите название задачи: Посмотреть питон \n",
      "Введите дату выполнения задачи: Завтра\n",
      "Задача добавлена\n",
      "Введите команду: add\n",
      "Введите название задачи: add\n",
      "Введите дату выполнения задачи: add\n",
      "Задача добавлена\n",
      "Введите команду: exit\n",
      "Спасибо за использование! До свидания!\n"
     ]
    }
   ],
   "source": [
    "today = []\n",
    "tomorrow = []\n",
    "other = []\n",
    "\n",
    "run = True\n",
    "\n",
    "while run:\n",
    "    command = input(\"Введите команду: \")\n",
    "    if command == \"help\":\n",
    "        print(HELP)\n",
    "    elif command == \"show\":\n",
    "        print(tasks)\n",
    "    elif command == \"add\":\n",
    "        task = input(\"Введите название задачи: \")\n",
    "        date = input(\"Введите дату выполнения задачи: \")\n",
    "        if date == \"Сегодня\":\n",
    "            today.append(task)\n",
    "        elif date == \"Завтра\":\n",
    "            tomorrow.append(task)\n",
    "        else:\n",
    "            other.append(task)\n",
    "        print(\"Задача добавлена\")\n",
    "    elif command == \"exit\":\n",
    "        print(\"Спасибо за использование! До свидания!\")\n",
    "        break\n",
    "    else: \n",
    "        print(\"Неизвестная команда\")\n",
    "        break\n",
    "        print(\"До свидания!\")"
   ]
  },
  {
   "cell_type": "code",
   "execution_count": 4,
   "id": "91b6caca",
   "metadata": {},
   "outputs": [
    {
     "name": "stdout",
     "output_type": "stream",
     "text": [
      "['Посмотреть питон ']\n",
      "['Посмотреть питон ']\n",
      "['add']\n"
     ]
    }
   ],
   "source": [
    "#проверим списки поосле работы программы\n",
    "print(today)\n",
    "print(tomorrow)\n",
    "print(other)"
   ]
  }
 ],
 "metadata": {
  "kernelspec": {
   "display_name": "Python 3 (ipykernel)",
   "language": "python",
   "name": "python3"
  },
  "language_info": {
   "codemirror_mode": {
    "name": "ipython",
    "version": 3
   },
   "file_extension": ".py",
   "mimetype": "text/x-python",
   "name": "python",
   "nbconvert_exporter": "python",
   "pygments_lexer": "ipython3",
   "version": "3.9.7"
  }
 },
 "nbformat": 4,
 "nbformat_minor": 5
}
